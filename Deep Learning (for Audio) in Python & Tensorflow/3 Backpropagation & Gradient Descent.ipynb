{
 "cells": [
  {
   "cell_type": "markdown",
   "id": "34c69b9d",
   "metadata": {},
   "source": [
    "## Get Predictions >> Calculate error >> Calculate gradient of error fuction over the weights >> Update Parameters (using Gradient Descent : Take step in opposite direction to gradient, Step : Learning rate)"
   ]
  },
  {
   "cell_type": "code",
   "execution_count": null,
   "id": "f04d82e6",
   "metadata": {},
   "outputs": [],
   "source": [
    "import numpy as np\n",
    "\n",
    "#save activations and derivatives\n",
    "#implement backpropagation\n",
    "#imlpement gradient descent\n",
    "#implement train\n",
    "#train our net with some dummy dataset\n",
    "#make some predictions\n",
    "\n",
    "class MLP:\n",
    "    \n",
    "    def __init__(self, num_inputs = 3, num_hidden = [3, 5] , num_outputs=2):\n",
    "        \n",
    "        self.num_inputs = num_inputs\n",
    "        self.num_hidden  = num_hidden\n",
    "        self.num_outputs = num_outputs\n",
    "        \n",
    "        layers = [self.num_inputs] + self.num_hidden + [self.num_outputs]\n",
    "        \n",
    "        self.weights = []\n",
    "        for i in range(len(layers)-1):\n",
    "            w = np.random.rand(layers[i], layers[i+1])\n",
    "            self.weights.append(w)\n",
    "            \n",
    "        activations = []\n",
    "        \n",
    "        for i in range(len(layers) - 1):\n",
    "            a = np.zeros(layers[i])\n",
    "            activations.append(a)\n",
    "            \n",
    "        self.activations = activations\n",
    "        \n",
    "        derivatives = []\n",
    "        \n",
    "        for i in range(len(layers) - 1):\n",
    "            d = np.zeros(layers[i], layers[i+1])\n",
    "            activations.append(d)\n",
    "            \n",
    "        self.derivatives = derivatives\n",
    "    \n",
    "    def forward_propagate(self, inputs):\n",
    "        activations = inputs\n",
    "        self.activations[0] = inputs\n",
    "        \n",
    "        for i, w in enumerate(self.weights):\n",
    "            #calculate net inputs\n",
    "            net_inputs = np.dot(activations, w)\n",
    "            \n",
    "            #calculate the activation\n",
    "            activations = self._sigmoid(net_inputs)\n",
    "            self.activations[i+1] = activations\n",
    "            \n",
    "        return activations\n",
    "    \n",
    "    def back_propagate(self, error):\n",
    "        \n",
    "        for i in reversed(range(len(self.derivatives))):\n",
    "            \n",
    "    \n",
    "    def _sigmoid(self, x):\n",
    "        return 1 / (1 + np.exp(-x))"
   ]
  },
  {
   "cell_type": "code",
   "execution_count": null,
   "id": "1a2d38fb",
   "metadata": {},
   "outputs": [],
   "source": [
    "#create MLP\n",
    "mlp = MLP()\n",
    "\n",
    "#create inputs\n",
    "inputs = np.random.rand(mlp.num_inputs)\n",
    "\n",
    "#perform forward prop\n",
    "outputs = mlp.forward_propagate(inputs)\n",
    "\n",
    "print(\"Inputs: \", inputs)\n",
    "print(\"Ouputs: \", outputs)"
   ]
  }
 ],
 "metadata": {
  "kernelspec": {
   "display_name": "Python 3 (ipykernel)",
   "language": "python",
   "name": "python3"
  },
  "language_info": {
   "codemirror_mode": {
    "name": "ipython",
    "version": 3
   },
   "file_extension": ".py",
   "mimetype": "text/x-python",
   "name": "python",
   "nbconvert_exporter": "python",
   "pygments_lexer": "ipython3",
   "version": "3.9.7"
  }
 },
 "nbformat": 4,
 "nbformat_minor": 5
}
