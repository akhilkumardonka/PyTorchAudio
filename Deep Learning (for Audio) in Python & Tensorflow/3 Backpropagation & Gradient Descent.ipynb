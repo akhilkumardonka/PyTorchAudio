{
 "cells": [
  {
   "cell_type": "markdown",
   "id": "34c69b9d",
   "metadata": {},
   "source": [
    "## Get Predictions >> Calculate error >> Calculate gradient of error fuction over the weights >> Update Parameters (using Gradient Descent : Take step in opposite direction to gradient, Step : Learning rate)"
   ]
  },
  {
   "cell_type": "code",
   "execution_count": null,
   "id": "f04d82e6",
   "metadata": {},
   "outputs": [],
   "source": []
  }
 ],
 "metadata": {
  "kernelspec": {
   "display_name": "Python 3 (ipykernel)",
   "language": "python",
   "name": "python3"
  },
  "language_info": {
   "codemirror_mode": {
    "name": "ipython",
    "version": 3
   },
   "file_extension": ".py",
   "mimetype": "text/x-python",
   "name": "python",
   "nbconvert_exporter": "python",
   "pygments_lexer": "ipython3",
   "version": "3.7.11"
  }
 },
 "nbformat": 4,
 "nbformat_minor": 5
}
