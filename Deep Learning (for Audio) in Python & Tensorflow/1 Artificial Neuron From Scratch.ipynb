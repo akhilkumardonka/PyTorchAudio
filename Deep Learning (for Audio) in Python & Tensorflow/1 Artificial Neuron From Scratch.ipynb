{
 "cells": [
  {
   "cell_type": "code",
   "execution_count": 2,
   "id": "819ec052",
   "metadata": {},
   "outputs": [
    {
     "data": {
      "text/plain": [
       "0.610639233949222"
      ]
     },
     "execution_count": 2,
     "metadata": {},
     "output_type": "execute_result"
    }
   ],
   "source": [
    "import math\n",
    "\n",
    "inputs = [0.5, 0.3, 0.2]\n",
    "weights = [0.4, 0.7, 0.2]\n",
    "\n",
    "def sigmoid(h):\n",
    "    return 1.0/(1+ math.exp(-h))\n",
    "\n",
    "def activate(inputs, weights):\n",
    "    h=0\n",
    "    for x, w in zip(inputs, weights):\n",
    "        h += x*w\n",
    "    return sigmoid(h)\n",
    "\n",
    "activate(inputs, weights)"
   ]
  },
  {
   "cell_type": "markdown",
   "id": "52ddd08e",
   "metadata": {},
   "source": [
    "## Artificial neurons are the computational units which transforms the inputs based on the activation function"
   ]
  }
 ],
 "metadata": {
  "kernelspec": {
   "display_name": "Python 3 (ipykernel)",
   "language": "python",
   "name": "python3"
  },
  "language_info": {
   "codemirror_mode": {
    "name": "ipython",
    "version": 3
   },
   "file_extension": ".py",
   "mimetype": "text/x-python",
   "name": "python",
   "nbconvert_exporter": "python",
   "pygments_lexer": "ipython3",
   "version": "3.9.7"
  }
 },
 "nbformat": 4,
 "nbformat_minor": 5
}
