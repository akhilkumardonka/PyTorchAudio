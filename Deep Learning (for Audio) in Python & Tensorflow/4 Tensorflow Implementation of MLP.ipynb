{
 "cells": [
  {
   "cell_type": "code",
   "execution_count": null,
   "id": "d727ba28",
   "metadata": {},
   "outputs": [],
   "source": [
    "import tensorflow as tf\n",
    "from sklearn.model_selection import train_test_split\n",
    "import numpy as np\n",
    "from random import random\n",
    "\n",
    "def generate_dataset(num_samples, test_size=0.33):\n",
    "    \"\"\"Generates train/test data for sum operation\n",
    "    :param num_samples (int): Num of total samples in dataset\n",
    "    :param test_size (int): Ratio of num_samples used as test set\n",
    "    :return x_train (ndarray): 2d array with input data for training\n",
    "    :return x_test (ndarray): 2d array with input data for testing\n",
    "    :return y_train (ndarray): 2d array with target data for training\n",
    "    :return y_test (ndarray): 2d array with target data for testing\n",
    "    \"\"\"\n",
    "\n",
    "    # build inputs/targets for sum operation: y[0][0] = x[0][0] + x[0][1]\n",
    "    x = np.array([[random()/2 for _ in range(2)] for _ in range(num_samples)])\n",
    "    y = np.array([[i[0] + i[1]] for i in x])\n",
    "\n",
    "    # split dataset into test and training sets\n",
    "    x_train, x_test, y_train, y_test = train_test_split(x, y, test_size=test_size)\n",
    "    return x_train, x_test, y_train, y_test\n",
    "\n",
    "if __name__ == \"__main__\":\n",
    "\n",
    "    # create a dataset with 2000 samples\n",
    "    x_train, x_test, y_train, y_test = generate_dataset(5000, 0.3)\n",
    "\n",
    "    # build model with 3 layers: 2 -> 5 -> 1\n",
    "    model = tf.keras.models.Sequential([\n",
    "      tf.keras.layers.Dense(5, input_dim=2, activation=\"sigmoid\"),\n",
    "      tf.keras.layers.Dense(1, activation=\"sigmoid\")\n",
    "    ])\n",
    "\n",
    "    # choose optimiser\n",
    "    optimizer = tf.keras.optimizers.SGD(learning_rate=0.1)\n",
    "\n",
    "    # compile model\n",
    "    model.compile(optimizer=optimizer, loss='mse')\n",
    "\n",
    "    # train model\n",
    "    model.fit(x_train, y_train, epochs=100)\n",
    "\n",
    "    # evaluate model on test set\n",
    "    print(\"\\nEvaluation on the test set:\")\n",
    "    model.evaluate(x_test,  y_test, verbose=2)\n",
    "\n",
    "    # get predictions\n",
    "    data = np.array([[0.1, 0.2], [0.2, 0.2]])\n",
    "    predictions = model.predict(data)\n",
    "\n",
    "    # print predictions\n",
    "    print(\"\\nPredictions:\")\n",
    "    for d, p in zip(data, predictions):\n",
    "        print(\"{} + {} = {}\".format(d[0], d[1], p[0]))"
   ]
  }
 ],
 "metadata": {
  "kernelspec": {
   "display_name": "Python 3 (ipykernel)",
   "language": "python",
   "name": "python3"
  },
  "language_info": {
   "codemirror_mode": {
    "name": "ipython",
    "version": 3
   },
   "file_extension": ".py",
   "mimetype": "text/x-python",
   "name": "python",
   "nbconvert_exporter": "python",
   "pygments_lexer": "ipython3",
   "version": "3.9.7"
  }
 },
 "nbformat": 4,
 "nbformat_minor": 5
}
