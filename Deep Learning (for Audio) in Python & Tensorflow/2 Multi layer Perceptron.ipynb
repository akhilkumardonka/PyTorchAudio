{
 "cells": [
  {
   "cell_type": "markdown",
   "id": "5715f395",
   "metadata": {},
   "source": [
    "## Computation in MLP : Weights, Net Inputs (Sum of weighted inputs), Activations (output of neurons to next layer)"
   ]
  },
  {
   "cell_type": "code",
   "execution_count": null,
   "id": "e905ca15",
   "metadata": {},
   "outputs": [],
   "source": []
  }
 ],
 "metadata": {
  "kernelspec": {
   "display_name": "Python 3 (ipykernel)",
   "language": "python",
   "name": "python3"
  },
  "language_info": {
   "codemirror_mode": {
    "name": "ipython",
    "version": 3
   },
   "file_extension": ".py",
   "mimetype": "text/x-python",
   "name": "python",
   "nbconvert_exporter": "python",
   "pygments_lexer": "ipython3",
   "version": "3.9.7"
  }
 },
 "nbformat": 4,
 "nbformat_minor": 5
}
