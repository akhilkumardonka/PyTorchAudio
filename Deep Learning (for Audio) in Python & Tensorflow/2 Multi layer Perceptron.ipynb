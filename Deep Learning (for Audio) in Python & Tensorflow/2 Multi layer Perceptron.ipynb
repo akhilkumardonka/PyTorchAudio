{
 "cells": [
  {
   "cell_type": "markdown",
   "id": "5715f395",
   "metadata": {},
   "source": [
    "## Computation in MLP : Weights, Net Inputs (Sum of weighted inputs), Activations (output of neurons to next layer)"
   ]
  },
  {
   "cell_type": "code",
   "execution_count": 2,
   "id": "e905ca15",
   "metadata": {},
   "outputs": [],
   "source": [
    "import numpy as np\n",
    "\n",
    "class MLP:\n",
    "    \n",
    "    def __init__(self, num_inputs = 3, num_hidden = [3, 5] , num_outputs=2):\n",
    "        self.num_inputs = num_inputs\n",
    "        self.num_hidden  = num_hidden\n",
    "        self.num_outputs = num_outputs\n",
    "        \n",
    "        layers = [self.num_inputs] + self.num_hidden + [self.num_outputs]\n",
    "        \n",
    "        self.weights = []\n",
    "        for i in range(len(layers)-1):\n",
    "            w = np.random.rand(layers[i], layers[i+1])\n",
    "            self.weights.append(w)\n",
    "            \n",
    "    \n",
    "    def forward_propagate(self, inputs):\n",
    "        activations = inputs\n",
    "        \n",
    "        for w in self.weights:\n",
    "            #calculate net inputs\n",
    "            net_inputs = np.dot(activations, w)\n",
    "            \n",
    "            #calculate the activation\n",
    "            activations = self._sigmoid(net_inputs)\n",
    "            \n",
    "        return activations\n",
    "    \n",
    "    def _sigmoid(self, x):\n",
    "        return 1 / (1 + np.exp(-x))"
   ]
  },
  {
   "cell_type": "code",
   "execution_count": 4,
   "id": "3071dfc5",
   "metadata": {},
   "outputs": [
    {
     "name": "stdout",
     "output_type": "stream",
     "text": [
      "Inputs:  [0.01187081 0.83438776 0.52768398]\n",
      "Ouputs:  [0.88135102 0.88771584]\n"
     ]
    }
   ],
   "source": [
    "#create MLP\n",
    "mlp = MLP()\n",
    "\n",
    "#create inputs\n",
    "inputs = np.random.rand(mlp.num_inputs)\n",
    "\n",
    "#perform forward prop\n",
    "outputs = mlp.forward_propagate(inputs)\n",
    "\n",
    "print(\"Inputs: \", inputs)\n",
    "print(\"Ouputs: \", outputs)"
   ]
  }
 ],
 "metadata": {
  "kernelspec": {
   "display_name": "Python 3 (ipykernel)",
   "language": "python",
   "name": "python3"
  },
  "language_info": {
   "codemirror_mode": {
    "name": "ipython",
    "version": 3
   },
   "file_extension": ".py",
   "mimetype": "text/x-python",
   "name": "python",
   "nbconvert_exporter": "python",
   "pygments_lexer": "ipython3",
   "version": "3.9.7"
  }
 },
 "nbformat": 4,
 "nbformat_minor": 5
}
